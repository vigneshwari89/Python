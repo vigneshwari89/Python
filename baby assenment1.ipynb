{
 "cells": [
  {
   "cell_type": "code",
   "execution_count": 1,
   "id": "54f1d99c-8702-487e-aee3-e8499ec2675a",
   "metadata": {},
   "outputs": [
    {
     "name": "stdout",
     "output_type": "stream",
     "text": [
      "Welcome to Assignment-1\n"
     ]
    }
   ],
   "source": [
    "print(\"Welcome to Assignment-1\")"
   ]
  },
  {
   "cell_type": "code",
   "execution_count": 2,
   "id": "f2767193-4f50-4e99-9b43-3f5001ce03fe",
   "metadata": {},
   "outputs": [
    {
     "name": "stdout",
     "output_type": "stream",
     "text": [
      "30\n"
     ]
    }
   ],
   "source": [
    "Num1=10\n",
    "Num2=20\n",
    "Add=Num1+Num2\n",
    "print(Add)\n"
   ]
  },
  {
   "cell_type": "code",
   "execution_count": 3,
   "id": "728e4252-61b5-459c-9a7b-65d25767242e",
   "metadata": {},
   "outputs": [
    {
     "name": "stdout",
     "output_type": "stream",
     "text": [
      "Num1=10\n",
      "Num2=20\n",
      "30\n"
     ]
    }
   ],
   "source": [
    "Num1=10\n",
    "Num2=20\n",
    "Add=Num1+Num2\n",
    "print(\"Num1=10\")\n",
    "print(\"Num2=20\")\n",
    "print(Add)"
   ]
  },
  {
   "cell_type": "code",
   "execution_count": 4,
   "id": "71eb5650-b10a-4236-8996-1346eb30b1fd",
   "metadata": {},
   "outputs": [
    {
     "name": "stdout",
     "output_type": "stream",
     "text": [
      "Num1= 10\n",
      "Num2= 30\n",
      "TOTAL= 40\n"
     ]
    }
   ],
   "source": [
    "Num1=10\n",
    "Num2=30\n",
    "Sum=Num1+Num2\n",
    "print(\"Num1= 10\")\n",
    "print(\"Num2= 30\")\n",
    "print(\"TOTAL=\",Sum)"
   ]
  },
  {
   "cell_type": "code",
   "execution_count": null,
   "id": "8d4a65ad-af1e-413a-be3a-a2fe07c51919",
   "metadata": {},
   "outputs": [],
   "source": []
  },
  {
   "cell_type": "code",
   "execution_count": null,
   "id": "084c825d-dc1d-4e7e-b014-c43859846e8a",
   "metadata": {},
   "outputs": [],
   "source": []
  },
  {
   "cell_type": "code",
   "execution_count": null,
   "id": "62a02037-c779-4931-a4a3-0f88a936fb9b",
   "metadata": {},
   "outputs": [],
   "source": []
  },
  {
   "cell_type": "code",
   "execution_count": null,
   "id": "d92c4744-2bf9-4337-bb5f-56b81ff0cbcc",
   "metadata": {},
   "outputs": [],
   "source": []
  }
 ],
 "metadata": {
  "kernelspec": {
   "display_name": "Python [conda env:base] *",
   "language": "python",
   "name": "conda-base-py"
  },
  "language_info": {
   "codemirror_mode": {
    "name": "ipython",
    "version": 3
   },
   "file_extension": ".py",
   "mimetype": "text/x-python",
   "name": "python",
   "nbconvert_exporter": "python",
   "pygments_lexer": "ipython3",
   "version": "3.12.7"
  }
 },
 "nbformat": 4,
 "nbformat_minor": 5
}
