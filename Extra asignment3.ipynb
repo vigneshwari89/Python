{
 "cells": [
  {
   "cell_type": "code",
   "execution_count": 5,
   "id": "bf3b7c13-f41b-4a17-adc7-b064fa5f18bd",
   "metadata": {},
   "outputs": [
    {
     "name": "stdin",
     "output_type": "stream",
     "text": [
      "value: 10\n"
     ]
    },
    {
     "name": "stdout",
     "output_type": "stream",
     "text": [
      "correct\n"
     ]
    }
   ],
   "source": [
    "num1 = int(input(\"value:\"))\n",
    "if(num1==10):\n",
    "           print(\"correct\")\n",
    "           "
   ]
  },
  {
   "cell_type": "code",
   "execution_count": 21,
   "id": "e77c48c2-30b2-4ddc-8e53-c14e71897f59",
   "metadata": {},
   "outputs": [
    {
     "name": "stdin",
     "output_type": "stream",
     "text": [
      "Enter the passward: Hope@123\n"
     ]
    },
    {
     "name": "stdout",
     "output_type": "stream",
     "text": [
      "your passward is correct\n"
     ]
    }
   ],
   "source": [
    "num = (input(\"Enter the passward:\"))\n",
    "if(num==\"Hope@123\"):\n",
    "    print(\"your passward is correct\")\n",
    "else:\n",
    "    print(\"your passward is wrong\")"
   ]
  },
  {
   "cell_type": "code",
   "execution_count": 29,
   "id": "97cb75b3-b413-4798-85f6-2f82497431f2",
   "metadata": {},
   "outputs": [
    {
     "name": "stdin",
     "output_type": "stream",
     "text": [
      "age: 20\n"
     ]
    },
    {
     "name": "stdout",
     "output_type": "stream",
     "text": [
      "Adult\n"
     ]
    }
   ],
   "source": [
    "age = int(input(\"age:\"))\n",
    "if(age<18):\n",
    "    print(\"children\")\n",
    "else:\n",
    "    print(\"Adult\")"
   ]
  },
  {
   "cell_type": "code",
   "execution_count": 1,
   "id": "c07c8ae5-fd2a-4bf5-ae42-274db566cf6f",
   "metadata": {},
   "outputs": [
    {
     "name": "stdin",
     "output_type": "stream",
     "text": [
      "Enter any number: 1\n"
     ]
    },
    {
     "name": "stdout",
     "output_type": "stream",
     "text": [
      "no is positive\n"
     ]
    }
   ],
   "source": [
    "Num = int(input(\"Enter any number:\"))\n",
    "if(Num>0):\n",
    "    print(\"no is positive\")"
   ]
  },
  {
   "cell_type": "code",
   "execution_count": 143,
   "id": "6e62fe0b-0243-47b5-a4c5-9db3936d7ba8",
   "metadata": {},
   "outputs": [
    {
     "name": "stdin",
     "output_type": "stream",
     "text": [
      "Enter a number to check: 22\n"
     ]
    },
    {
     "name": "stdout",
     "output_type": "stream",
     "text": [
      "no is not divisible by 5\n"
     ]
    }
   ],
   "source": [
    "num=int(input(\"Enter a number to check:\"))\n",
    "if(num%5!=0):\n",
    "    print(\"no is not divisible by 5\")\n",
    "else:\n",
    "    print(\"yes is divisible by 5\")"
   ]
  },
  {
   "cell_type": "code",
   "execution_count": null,
   "id": "99517dce-15b2-4c78-842e-2fa00218f733",
   "metadata": {},
   "outputs": [],
   "source": []
  }
 ],
 "metadata": {
  "kernelspec": {
   "display_name": "Python [conda env:base] *",
   "language": "python",
   "name": "conda-base-py"
  },
  "language_info": {
   "codemirror_mode": {
    "name": "ipython",
    "version": 3
   },
   "file_extension": ".py",
   "mimetype": "text/x-python",
   "name": "python",
   "nbconvert_exporter": "python",
   "pygments_lexer": "ipython3",
   "version": "3.12.7"
  }
 },
 "nbformat": 4,
 "nbformat_minor": 5
}
