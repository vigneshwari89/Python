{
 "cells": [
  {
   "cell_type": "code",
   "execution_count": 1,
   "id": "3fc1c920-c2c8-4222-b8db-519b18fcd2df",
   "metadata": {},
   "outputs": [
    {
     "name": "stdout",
     "output_type": "stream",
     "text": [
      "0\n",
      "1\n",
      "2\n",
      "3\n",
      "4\n",
      "5\n",
      "6\n",
      "7\n",
      "8\n",
      "9\n",
      "10\n",
      "11\n",
      "12\n",
      "13\n",
      "14\n",
      "15\n",
      "16\n",
      "17\n",
      "18\n",
      "19\n"
     ]
    }
   ],
   "source": [
    "for num in range(0,20):\n",
    "    print(num)"
   ]
  },
  {
   "cell_type": "code",
   "execution_count": 3,
   "id": "3a37a43b-9838-4d29-a3a0-26162111e925",
   "metadata": {},
   "outputs": [
    {
     "name": "stdout",
     "output_type": "stream",
     "text": [
      "10 11 12 13 14 15 16 17 18 19 "
     ]
    }
   ],
   "source": [
    "for num in range(10,20):\n",
    "    print(num,end=' ')"
   ]
  },
  {
   "cell_type": "code",
   "execution_count": 5,
   "id": "19da0ab6-ee58-4a63-97c8-a247bb86baf6",
   "metadata": {},
   "outputs": [
    {
     "name": "stdout",
     "output_type": "stream",
     "text": [
      "[10, 20, 14, 55, 43, 87, 76]\n",
      "Number of item in the line2: 7\n"
     ]
    }
   ],
   "source": [
    "Lists=[10,20,14,55,43,87,76]\n",
    "print(Lists)\n",
    "print(\"Number of item in the line2:\",(len)(Lists))"
   ]
  },
  {
   "cell_type": "code",
   "execution_count": 1,
   "id": "4488cb2f-659d-4d79-a9ec-7cf3dbeeec81",
   "metadata": {},
   "outputs": [
    {
     "name": "stdout",
     "output_type": "stream",
     "text": [
      "Artifical Intelligence\n",
      "A\n",
      "r\n",
      "t\n",
      "i\n",
      "f\n",
      "i\n",
      "c\n",
      "a\n",
      "l\n",
      " \n",
      "I\n",
      "n\n",
      "t\n",
      "e\n",
      "l\n",
      "l\n",
      "i\n",
      "g\n",
      "e\n",
      "n\n",
      "c\n",
      "e\n"
     ]
    }
   ],
   "source": [
    "Lists = [\"Artifical Intelligence\"]\n",
    "for x in Lists:\n",
    "    print(x)\n",
    "for y in \"Artifical Intelligence\":\n",
    "    print(y)"
   ]
  },
  {
   "cell_type": "code",
   "execution_count": 3,
   "id": "6668f754-cb1b-4101-8886-a2baf4086ea3",
   "metadata": {},
   "outputs": [
    {
     "name": "stdout",
     "output_type": "stream",
     "text": [
      "-your name-\n",
      "-your age-\n",
      "-your profession-\n"
     ]
    }
   ],
   "source": [
    "print(\"-your name-\")\n",
    "print(\"-your age-\")\n",
    "print(\"-your profession-\")"
   ]
  },
  {
   "cell_type": "code",
   "execution_count": 5,
   "id": "ba6746a0-f0b6-4e70-95e1-436a41f3c768",
   "metadata": {},
   "outputs": [
    {
     "name": "stdout",
     "output_type": "stream",
     "text": [
      "(1, 'welcome', 2, 'Hope')\n"
     ]
    }
   ],
   "source": [
    "tup = (1, 'welcome', 2, 'Hope')\n",
    "print(tup)"
   ]
  },
  {
   "cell_type": "code",
   "execution_count": 9,
   "id": "637063db-e6db-46cf-8aff-335148c12407",
   "metadata": {},
   "outputs": [
    {
     "name": "stdout",
     "output_type": "stream",
     "text": [
      "((0, 1, 2, 3), ('python', 'Hope'))\n"
     ]
    }
   ],
   "source": [
    "tup1 = (0,1,2,3)\n",
    "tup2 = ('python', 'Hope')\n",
    "tup3 = (tup1,tup2)\n",
    "print(tup3)"
   ]
  },
  {
   "cell_type": "code",
   "execution_count": 35,
   "id": "d44b845b-e475-40b1-8c82-8288adafbcad",
   "metadata": {},
   "outputs": [
    {
     "name": "stdout",
     "output_type": "stream",
     "text": [
      "(20, 10, 16, 19, 25, 1, 276, 188)\n",
      "19 odd number\n",
      "25 odd number\n",
      "1 odd number\n"
     ]
    }
   ],
   "source": [
    "tup1 = (20,10,16,19,25,1,276,188)\n",
    "print(tup1)\n",
    "for x in tup1:\n",
    "    if(x%2==1):\n",
    "        print(x,\"odd number\")"
   ]
  },
  {
   "cell_type": "code",
   "execution_count": 37,
   "id": "4ca7b663-cf70-49de-9ac9-a45709246d3d",
   "metadata": {},
   "outputs": [
    {
     "name": "stdout",
     "output_type": "stream",
     "text": [
      "(20, 10, 16, 19, 25, 1, 276, 188)\n",
      "20 Even number\n",
      "10 Even number\n",
      "16 Even number\n",
      "276 Even number\n",
      "188 Even number\n"
     ]
    }
   ],
   "source": [
    "tup1 = (20,10,16,19,25,1,276,188)\n",
    "print(tup1)\n",
    "for x in tup1:\n",
    "    if(x%2==0):\n",
    "        print(x,\"Even number\")"
   ]
  },
  {
   "cell_type": "code",
   "execution_count": null,
   "id": "b8236884-16f2-495c-8eed-7d6371133bbb",
   "metadata": {},
   "outputs": [],
   "source": []
  }
 ],
 "metadata": {
  "kernelspec": {
   "display_name": "Python [conda env:base] *",
   "language": "python",
   "name": "conda-base-py"
  },
  "language_info": {
   "codemirror_mode": {
    "name": "ipython",
    "version": 3
   },
   "file_extension": ".py",
   "mimetype": "text/x-python",
   "name": "python",
   "nbconvert_exporter": "python",
   "pygments_lexer": "ipython3",
   "version": "3.12.7"
  }
 },
 "nbformat": 4,
 "nbformat_minor": 5
}
