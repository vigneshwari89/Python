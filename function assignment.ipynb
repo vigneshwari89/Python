{
 "cells": [
  {
   "cell_type": "markdown",
   "id": "79d2648f-3b15-4880-a179-627fcc669915",
   "metadata": {},
   "source": []
  },
  {
   "cell_type": "code",
   "execution_count": 2,
   "id": "6620fb34-2885-46a4-a48b-8bab6be14e78",
   "metadata": {},
   "outputs": [
    {
     "name": "stdout",
     "output_type": "stream",
     "text": [
      "Sub-fields in AI are:\n",
      "Machine Learning\n",
      "natural network\n",
      "vision\n",
      "Robatics\n",
      "speech processing\n",
      "natural language processing\n"
     ]
    }
   ],
   "source": [
    "Lists = [\"Machine Learning\", \"natural network\", \"vision\", \"Robatics\", \"speech processing\", \"natural language processing\"]\n",
    "print(\"Sub-fields in AI are:\")\n",
    "for AI in Lists:\n",
    "     print(AI)\n",
    "               "
   ]
  },
  {
   "cell_type": "code",
   "execution_count": 3,
   "id": "43504b24-c648-46e4-af36-61f75842e80b",
   "metadata": {},
   "outputs": [],
   "source": [
    "Lists = [\"Machine Learning\", \"natural network\", \"vision\", \"Robatics\", \"speech processing\", \"natural language processing\"]\n",
    "def subfieldsInAI():\n",
    "    print(\"Sub-fields in AI are:\")\n",
    "    for AI in Lists: \n",
    "        print(AI)"
   ]
  },
  {
   "cell_type": "code",
   "execution_count": 4,
   "id": "8bb4822a-cec6-44c8-9e9c-981d576f6717",
   "metadata": {},
   "outputs": [
    {
     "name": "stdout",
     "output_type": "stream",
     "text": [
      "Sub-fields in AI are:\n",
      "Machine Learning\n",
      "natural network\n",
      "vision\n",
      "Robatics\n",
      "speech processing\n",
      "natural language processing\n"
     ]
    }
   ],
   "source": [
    "subfieldsInAI()"
   ]
  },
  {
   "cell_type": "code",
   "execution_count": 5,
   "id": "120f8d70-5e3f-406b-a485-cc3ebd09cf72",
   "metadata": {},
   "outputs": [
    {
     "name": "stdin",
     "output_type": "stream",
     "text": [
      "Enter the number: 54352\n"
     ]
    },
    {
     "name": "stdout",
     "output_type": "stream",
     "text": [
      "54352 is Even number\n"
     ]
    }
   ],
   "source": [
    "num = int(input(\"Enter the number:\"))\n",
    "if(num%2==0):\n",
    "        print(num,\"is Even number\")\n",
    "else:\n",
    "        print(num,\"is Odd Number\")"
   ]
  },
  {
   "cell_type": "code",
   "execution_count": 6,
   "id": "50480c28-cc71-4fc3-8bb5-50f709c8e605",
   "metadata": {},
   "outputs": [],
   "source": [
    "def My_number():\n",
    "    num=int(input(\"Enter the number:\"))\n",
    "    if(num%2==0):\n",
    "        print(num,\"is Even number\")\n",
    "    else:  \n",
    "        print(num,\"is Odd Number\")"
   ]
  },
  {
   "cell_type": "code",
   "execution_count": 7,
   "id": "4e77b911-587f-454c-a20c-eca81dd134ea",
   "metadata": {},
   "outputs": [
    {
     "name": "stdin",
     "output_type": "stream",
     "text": [
      "Enter the number: 54352\n"
     ]
    },
    {
     "name": "stdout",
     "output_type": "stream",
     "text": [
      "54352 is Even number\n"
     ]
    }
   ],
   "source": [
    "My_number()"
   ]
  },
  {
   "cell_type": "code",
   "execution_count": 29,
   "id": "60819731-747f-4a8a-885d-abeee859a71c",
   "metadata": {},
   "outputs": [
    {
     "name": "stdin",
     "output_type": "stream",
     "text": [
      "Your Gender: Female\n",
      "your age: 16\n"
     ]
    },
    {
     "name": "stdout",
     "output_type": "stream",
     "text": [
      "Not Elegible\n"
     ]
    }
   ],
   "source": [
    "gender = input(\"Your Gender:\")\n",
    "age = int(input(\"your age:\"))\n",
    "if gender == 'Male' and age>=21:\n",
    "    print(\"Elegible\")\n",
    "elif gender == 'Female' and age>=18:\n",
    "    print(\"Elegible\")\n",
    "else:\n",
    "    print(\"Not Elegible\")\n",
    "        \n",
    "\n",
    "    "
   ]
  },
  {
   "cell_type": "code",
   "execution_count": 51,
   "id": "5df3b7d6-9242-4c2b-8cd4-921e8b92e3c9",
   "metadata": {},
   "outputs": [],
   "source": [
    "def MY_Function():\n",
    "    gender = input(\"Your Gender:\")\n",
    "    age = int(input(\"your age:\"))\n",
    "    if gender == 'Male' and age>=21:\n",
    "        print(\"Elegible\")\n",
    "    elif gender == 'Female' and age>=18:\n",
    "        print(\"Elegible\")\n",
    "    else:\n",
    "        print(\"Not Elegible\")\n",
    "        "
   ]
  },
  {
   "cell_type": "code",
   "execution_count": 53,
   "id": "ac994bef-b8fa-49f8-954a-aa34766fdd75",
   "metadata": {},
   "outputs": [
    {
     "name": "stdin",
     "output_type": "stream",
     "text": [
      "Your Gender: Female\n",
      "your age: 22\n"
     ]
    },
    {
     "name": "stdout",
     "output_type": "stream",
     "text": [
      "Elegible\n"
     ]
    }
   ],
   "source": [
    "    MY_Function()"
   ]
  },
  {
   "cell_type": "code",
   "execution_count": 61,
   "id": "d96a867f-54e2-4f6a-9e72-8ababa10ca8b",
   "metadata": {},
   "outputs": [
    {
     "name": "stdin",
     "output_type": "stream",
     "text": [
      "Subject1= 98\n",
      "subject2= 87\n",
      "subject3= 95\n",
      "subject4= 95\n",
      "subject5= 93\n"
     ]
    },
    {
     "name": "stdout",
     "output_type": "stream",
     "text": [
      "Total: 468\n",
      "prrcentage: 93.60000000000001\n"
     ]
    }
   ],
   "source": [
    "sub1 = int(input(\"Subject1=\"))\n",
    "sub2 = int(input(\"subject2=\"))\n",
    "sub3 = int(input(\"subject3=\"))\n",
    "sub4 = int(input(\"subject4=\"))\n",
    "sub5 = int(input(\"subject5=\"))\n",
    "total = (sub1+sub2+sub3+sub4+sub5)\n",
    "print(\"Total:\",total)\n",
    "per = float(total)*(100/500)\n",
    "print(\"prrcentage:\",per)\n",
    "\n",
    "\n",
    "\n",
    "\n"
   ]
  },
  {
   "cell_type": "code",
   "execution_count": 99,
   "id": "a408d2eb-60e3-4260-b53c-a296aee375c8",
   "metadata": {},
   "outputs": [],
   "source": [
    "def My_subject():\n",
    "    sub1 = int(input(\"Subject1=\"))\n",
    "    sub2 = int(input(\"subject2=\"))\n",
    "    sub3 = int(input(\"subject3=\"))\n",
    "    sub4 = int(input(\"subject4=\"))\n",
    "    sub5 = int(input(\"subject5=\"))\n",
    "    total = (sub1+sub2+sub3+sub4+sub5)\n",
    "    print(\"Total:\",total)\n",
    "    per = float(total)*(100/500)\n",
    "    print(\"prrcentage:\",per)"
   ]
  },
  {
   "cell_type": "code",
   "execution_count": 101,
   "id": "41ec185e-03a1-4779-8a6f-cfd0c49b3806",
   "metadata": {},
   "outputs": [
    {
     "name": "stdin",
     "output_type": "stream",
     "text": [
      "Subject1= 98\n",
      "subject2= 87\n",
      "subject3= 95\n",
      "subject4= 95\n",
      "subject5= 93\n"
     ]
    },
    {
     "name": "stdout",
     "output_type": "stream",
     "text": [
      "Total: 468\n",
      "prrcentage: 93.60000000000001\n"
     ]
    }
   ],
   "source": [
    "    My_subject()"
   ]
  },
  {
   "cell_type": "code",
   "execution_count": 127,
   "id": "1ea3b771-9144-41c1-af36-f30ce26ab7c3",
   "metadata": {},
   "outputs": [
    {
     "name": "stdin",
     "output_type": "stream",
     "text": [
      "Height: 32\n",
      "Breadth: 34\n"
     ]
    },
    {
     "name": "stdout",
     "output_type": "stream",
     "text": [
      "Area fomula:(Height*Breadth)/2\n",
      "Area of triangle: 544.0\n"
     ]
    },
    {
     "name": "stdin",
     "output_type": "stream",
     "text": [
      "Height1: 2\n",
      "Height2: 4\n",
      "Breadth: 4\n"
     ]
    },
    {
     "name": "stdout",
     "output_type": "stream",
     "text": [
      "Perimeter formula:Height1+Height2+Breadth\n",
      "perimeter of Triangle: 10\n"
     ]
    }
   ],
   "source": [
    "\n",
    "Height=int(input(\"Height:\"))\n",
    "Breadth=int(input(\"Breadth:\"))\n",
    "a=(Height*Breadth)/2\n",
    "print(\"Area fomula:(Height*Breadth)/2\")\n",
    "print(\"Area of triangle:\",a)\n",
    "Height1=int(input(\"Height1:\"))\n",
    "Height2=int(input(\"Height2:\"))\n",
    "Breadth=int(input(\"Breadth:\"))\n",
    "g=(Height1+Height2+Breadth)\n",
    "print(\"Perimeter formula:Height1+Height2+Breadth\")\n",
    "print(\"perimeter of Triangle:\", g)\n"
   ]
  },
  {
   "cell_type": "code",
   "execution_count": 129,
   "id": "d548670b-783a-4f3f-be44-a8a1118d16a7",
   "metadata": {},
   "outputs": [],
   "source": [
    "def Triangle():\n",
    "    Height=int(input(\"Height:\"))\n",
    "    Breadth=int(input(\"Breadth:\"))\n",
    "    a=(Height*Breadth)/2\n",
    "    print(\"Area fomula:(Height*Breadth)/2\")\n",
    "    print(\"Area of triangle:\",a)\n",
    "    Height1=int(input(\"Height1:\"))\n",
    "    Height2=int(input(\"Height2:\"))\n",
    "    Breadth=int(input(\"Breadth:\"))\n",
    "    g=(Height1+Height2+Breadth)\n",
    "    print(\"Perimeter formula:Height1+Height2+Breadth\")\n",
    "    print(\"perimeter of Triangle:\", g)\n"
   ]
  },
  {
   "cell_type": "code",
   "execution_count": 133,
   "id": "c78fa0e6-ea02-4757-bf1d-ffc4f43555fe",
   "metadata": {},
   "outputs": [
    {
     "name": "stdin",
     "output_type": "stream",
     "text": [
      "Height: 32\n",
      "Breadth: 34\n"
     ]
    },
    {
     "name": "stdout",
     "output_type": "stream",
     "text": [
      "Area fomula:(Height*Breadth)/2\n",
      "Area of triangle: 544.0\n"
     ]
    },
    {
     "name": "stdin",
     "output_type": "stream",
     "text": [
      "Height1: 2\n",
      "Height2: 4\n",
      "Breadth: 4\n"
     ]
    },
    {
     "name": "stdout",
     "output_type": "stream",
     "text": [
      "Perimeter formula:Height1+Height2+Breadth\n",
      "perimeter of Triangle: 10\n"
     ]
    }
   ],
   "source": [
    "    Triangle()"
   ]
  },
  {
   "cell_type": "code",
   "execution_count": null,
   "id": "05ffa221-832e-4ca5-9eb4-2fb7397cbf01",
   "metadata": {},
   "outputs": [],
   "source": []
  }
 ],
 "metadata": {
  "kernelspec": {
   "display_name": "Python [conda env:base] *",
   "language": "python",
   "name": "conda-base-py"
  },
  "language_info": {
   "codemirror_mode": {
    "name": "ipython",
    "version": 3
   },
   "file_extension": ".py",
   "mimetype": "text/x-python",
   "name": "python",
   "nbconvert_exporter": "python",
   "pygments_lexer": "ipython3",
   "version": "3.12.7"
  }
 },
 "nbformat": 4,
 "nbformat_minor": 5
}
