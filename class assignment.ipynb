{
 "cells": [
  {
   "cell_type": "code",
   "execution_count": 1,
   "id": "cf00eb6b-a907-4b3f-8e87-d9d5b189b215",
   "metadata": {},
   "outputs": [],
   "source": [
    "class multiplefunction():\n",
    "            def subfieldsInAI():\n",
    "                print(\"Sub-fields in AI are:\")\n",
    "                Lists = [\"Machine Learning\", \"natural network\", \"vision\", \"Robatics\", \"speech processing\", \"natural language processing\"]\n",
    "                for AI in Lists:\n",
    "                    print(AI)\n",
    "        \n",
    "            def My_number():\n",
    "                num=int(input(\"Enter the number:\"))\n",
    "                if(num%2==0):\n",
    "                    print(num,\"is Even number\")\n",
    "                else:  \n",
    "                    print(num,\"is Odd Number\")\n",
    "        \n",
    "            def MY_Function():\n",
    "                gender = input(\"Your Gender:\")\n",
    "                age = int(input(\"your age:\"))\n",
    "                if gender == 'Male' and age>=21:\n",
    "                    print(\"Elegible\")\n",
    "                elif gender == 'Female' and age>=18:\n",
    "                    print(\"Elegible\")\n",
    "                else:\n",
    "                    print(\"Not Elegible\")\n",
    "\n",
    "            def My_subject():\n",
    "                sub1 = int(input(\"Subject1=\"))\n",
    "                sub2 = int(input(\"subject2=\"))\n",
    "                sub3 = int(input(\"subject3=\"))\n",
    "                sub4 = int(input(\"subject4=\"))\n",
    "                sub5 = int(input(\"subject5=\"))\n",
    "                total = (sub1+sub2+sub3+sub4+sub5)\n",
    "                print(\"Total:\",total)\n",
    "                per = float(total)*(100/500)\n",
    "                print(\"prrcentage:\",per)\n",
    "                \n",
    "            def Triangle():\n",
    "                Height=int(input(\"Height:\"))\n",
    "                Breadth=int(input(\"Breadth:\"))\n",
    "                a=(Height*Breadth)/2\n",
    "                print(\"Area fomula:(Height*Breadth)/2\")\n",
    "                print(\"Area of triangle:\",a)\n",
    "                Height1=int(input(\"Height1:\"))\n",
    "                Height2=int(input(\"Height2:\"))\n",
    "                Breadth=int(input(\"Breadth:\"))\n",
    "                g=(Height1+Height2+Breadth)\n",
    "                print(\"Perimeter formula:Height1+Height2+Breadth\")\n",
    "                print(\"perimeter of Triangle:\", g)           \n",
    "        "
   ]
  },
  {
   "cell_type": "code",
   "execution_count": 3,
   "id": "3f8da20e-a106-4822-9aa0-2129cbb89580",
   "metadata": {},
   "outputs": [
    {
     "name": "stdout",
     "output_type": "stream",
     "text": [
      "Sub-fields in AI are:\n",
      "Machine Learning\n",
      "natural network\n",
      "vision\n",
      "Robatics\n",
      "speech processing\n",
      "natural language processing\n"
     ]
    }
   ],
   "source": [
    "multiplefunction.subfieldsInAI()"
   ]
  },
  {
   "cell_type": "code",
   "execution_count": 9,
   "id": "07022393-c4fe-4b24-84ba-624e3933eddd",
   "metadata": {},
   "outputs": [
    {
     "name": "stdin",
     "output_type": "stream",
     "text": [
      "Enter the number: 54352\n"
     ]
    },
    {
     "name": "stdout",
     "output_type": "stream",
     "text": [
      "54352 is Even number\n"
     ]
    }
   ],
   "source": [
    "multiplefunction.My_number()"
   ]
  },
  {
   "cell_type": "code",
   "execution_count": 5,
   "id": "7ef14ecb-5ab9-4d7b-84fb-daadd701aa01",
   "metadata": {},
   "outputs": [
    {
     "name": "stdin",
     "output_type": "stream",
     "text": [
      "Your Gender: Male\n",
      "your age: 23\n"
     ]
    },
    {
     "name": "stdout",
     "output_type": "stream",
     "text": [
      "Elegible\n"
     ]
    }
   ],
   "source": [
    "multiplefunction.MY_Function()"
   ]
  },
  {
   "cell_type": "code",
   "execution_count": 7,
   "id": "f86d3253-def1-4194-8623-c60aaceab845",
   "metadata": {},
   "outputs": [
    {
     "name": "stdin",
     "output_type": "stream",
     "text": [
      "Subject1= 98\n",
      "subject2= 87\n",
      "subject3= 95\n",
      "subject4= 95\n",
      "subject5= 93\n"
     ]
    },
    {
     "name": "stdout",
     "output_type": "stream",
     "text": [
      "Total: 468\n",
      "prrcentage: 93.60000000000001\n"
     ]
    }
   ],
   "source": [
    "multiplefunction.My_subject()"
   ]
  },
  {
   "cell_type": "code",
   "execution_count": 11,
   "id": "2ac245d0-49c8-4319-b5e1-ac90f1169eae",
   "metadata": {},
   "outputs": [
    {
     "name": "stdin",
     "output_type": "stream",
     "text": [
      "Height: 32\n",
      "Breadth: 34\n"
     ]
    },
    {
     "name": "stdout",
     "output_type": "stream",
     "text": [
      "Area fomula:(Height*Breadth)/2\n",
      "Area of triangle: 544.0\n"
     ]
    },
    {
     "name": "stdin",
     "output_type": "stream",
     "text": [
      "Height1: 2\n",
      "Height2: 4\n",
      "Breadth: 4\n"
     ]
    },
    {
     "name": "stdout",
     "output_type": "stream",
     "text": [
      "Perimeter formula:Height1+Height2+Breadth\n",
      "perimeter of Triangle: 10\n"
     ]
    }
   ],
   "source": [
    "multiplefunction.Triangle()"
   ]
  },
  {
   "cell_type": "code",
   "execution_count": null,
   "id": "c48fcb2f-96dd-4c16-8652-f8e32d09b018",
   "metadata": {},
   "outputs": [],
   "source": []
  }
 ],
 "metadata": {
  "kernelspec": {
   "display_name": "Python [conda env:base] *",
   "language": "python",
   "name": "conda-base-py"
  },
  "language_info": {
   "codemirror_mode": {
    "name": "ipython",
    "version": 3
   },
   "file_extension": ".py",
   "mimetype": "text/x-python",
   "name": "python",
   "nbconvert_exporter": "python",
   "pygments_lexer": "ipython3",
   "version": "3.12.7"
  }
 },
 "nbformat": 4,
 "nbformat_minor": 5
}
