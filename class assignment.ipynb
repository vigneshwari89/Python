{
 "cells": [
  {
   "cell_type": "code",
   "execution_count": 13,
   "id": "cf00eb6b-a907-4b3f-8e87-d9d5b189b215",
   "metadata": {},
   "outputs": [],
   "source": [
    "class multiplefunction():\n",
    "            def subfieldsInAI():\n",
    "                print(\"Sub-fields in AI are:\")\n",
    "                Lists = [\"Machine Learning\", \"natural network\", \"vision\", \"Robatics\", \"speech processing\", \"natural language processing\"]\n",
    "                for AI in Lists:\n",
    "                    print(AI)\n",
    "        \n",
    "            def My_number():\n",
    "                num=int(input(\"Enter the number:\"))\n",
    "                if(num%2==0):\n",
    "                    print(num,\"is Even number\")\n",
    "                else:  \n",
    "                    print(num,\"is Odd Number\")\n",
    "        \n",
    "            def My_number():\n",
    "                num=int(input(\"Enter the number:\"))\n",
    "                if(num%2==0):\n",
    "                    print(num,\"is Even number\")\n",
    "                else:\n",
    "                    print(num,\"is Odd Number\")\n",
    "    \n",
    "            def My_number():\n",
    "                num=int(input(\"Enter the number:\"))\n",
    "                if(num%2==0):\n",
    "                    print(num,\"is Even number\")\n",
    "                 else:\n",
    "                    print(num,\"is Odd Number\")\n",
    "            \n",
    "                \n",
    "        \n",
    "                \n",
    "        "
   ]
  },
  {
   "cell_type": "code",
   "execution_count": 15,
   "id": "3f8da20e-a106-4822-9aa0-2129cbb89580",
   "metadata": {},
   "outputs": [
    {
     "name": "stdout",
     "output_type": "stream",
     "text": [
      "Sub-fields in AI are:\n",
      "Machine Learning\n",
      "natural network\n",
      "vision\n",
      "Robatics\n",
      "speech processing\n",
      "natural language processing\n"
     ]
    }
   ],
   "source": [
    "multiplefunction.subfieldsInAI()"
   ]
  },
  {
   "cell_type": "code",
   "execution_count": 17,
   "id": "07022393-c4fe-4b24-84ba-624e3933eddd",
   "metadata": {},
   "outputs": [
    {
     "name": "stdin",
     "output_type": "stream",
     "text": [
      "Enter the number: 54352\n"
     ]
    },
    {
     "name": "stdout",
     "output_type": "stream",
     "text": [
      "54352 is Even number\n"
     ]
    }
   ],
   "source": [
    "multiplefunction.My_number()"
   ]
  },
  {
   "cell_type": "code",
   "execution_count": null,
   "id": "7ef14ecb-5ab9-4d7b-84fb-daadd701aa01",
   "metadata": {},
   "outputs": [],
   "source": []
  }
 ],
 "metadata": {
  "kernelspec": {
   "display_name": "Python [conda env:base] *",
   "language": "python",
   "name": "conda-base-py"
  },
  "language_info": {
   "codemirror_mode": {
    "name": "ipython",
    "version": 3
   },
   "file_extension": ".py",
   "mimetype": "text/x-python",
   "name": "python",
   "nbconvert_exporter": "python",
   "pygments_lexer": "ipython3",
   "version": "3.12.7"
  }
 },
 "nbformat": 4,
 "nbformat_minor": 5
}
