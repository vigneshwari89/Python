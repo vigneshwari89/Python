{
 "cells": [
  {
   "cell_type": "code",
   "execution_count": 1,
   "id": "9fe42b10-0347-4501-bb30-a5131effdfc0",
   "metadata": {},
   "outputs": [
    {
     "name": "stdout",
     "output_type": "stream",
     "text": [
      "4.0\n"
     ]
    }
   ],
   "source": [
    "#1.Find the error in the following Python code:\n",
    "#import math\n",
    "#print (Math.sqrt(16))\n",
    "import math\n",
    "print (math.sqrt(16))"
   ]
  },
  {
   "cell_type": "code",
   "execution_count": 2,
   "id": "470bad61-f3b8-43bd-8181-6e5a4e0dcbee",
   "metadata": {},
   "outputs": [
    {
     "name": "stdout",
     "output_type": "stream",
     "text": [
      "5\n"
     ]
    }
   ],
   "source": [
    "#2.Find the error in the following Python code:\n",
    "#def my_function():\n",
    "  #  x += 5\n",
    "#print(x)\n",
    "\n",
    "#x = 10\n",
    "\n",
    "#my_function()\n",
    "\n",
    "def my_function():\n",
    "    x = 5\n",
    "    print(x)\n",
    "\n",
    "x = 10\n",
    "\n",
    "my_function()\n"
   ]
  },
  {
   "cell_type": "code",
   "execution_count": 3,
   "id": "1df45606-104f-47db-9a12-99a6d0829326",
   "metadata": {},
   "outputs": [
    {
     "name": "stdout",
     "output_type": "stream",
     "text": [
      "x is 10\n"
     ]
    }
   ],
   "source": [
    "#3.x = 5\n",
    "#if x == 10:\n",
    "#   print(\"x is 10\")\n",
    "\n",
    "if x == 10:\n",
    "    print(\"x is 10\")"
   ]
  },
  {
   "cell_type": "code",
   "execution_count": 4,
   "id": "4ba13b3a-3239-4470-80a0-71acb3b143e0",
   "metadata": {},
   "outputs": [
    {
     "name": "stdout",
     "output_type": "stream",
     "text": [
      "[2, 3, 5, 8]\n"
     ]
    }
   ],
   "source": [
    "#4.\n",
    "#numbers = [5, 3, 8, 2]\n",
    "#print(numbers.sort())\n",
    "      \n",
    "numbers = [5, 3, 8, 2]\n",
    "numbers.sort()\n",
    "print(numbers)"
   ]
  },
  {
   "cell_type": "code",
   "execution_count": 5,
   "id": "cdd24426-0cd8-4233-9683-dfdad261f038",
   "metadata": {},
   "outputs": [
    {
     "name": "stdout",
     "output_type": "stream",
     "text": [
      "256\n"
     ]
    }
   ],
   "source": [
    "#5.\n",
    "#def square(n):\n",
    " #   x= n ** n\n",
    "#print(square(4))\n",
    "\n",
    "def square(n):\n",
    "    x= n ** n\n",
    "    return x\n",
    "print(square(4))\n",
    "\n"
   ]
  },
  {
   "cell_type": "code",
   "execution_count": 6,
   "id": "a54472b3-f832-4595-8f2d-7aeee4dc35ba",
   "metadata": {},
   "outputs": [
    {
     "name": "stdout",
     "output_type": "stream",
     "text": [
      "2\n"
     ]
    }
   ],
   "source": [
    "#6.\n",
    "#my_tuple = (1, 2, 3)\n",
    "#my_tuple[1] = 5\n",
    "#6.\n",
    "my_tuple = (1, 2, 3)\n",
    "print(my_tuple[1])\n",
    "\n"
   ]
  },
  {
   "cell_type": "code",
   "execution_count": 7,
   "id": "4b562f61-bb2f-4528-8f84-2a5d3d1fdb5f",
   "metadata": {},
   "outputs": [
    {
     "name": "stdout",
     "output_type": "stream",
     "text": [
      "My name is: Alice\n",
      "I am 25 years old\n"
     ]
    }
   ],
   "source": [
    "#7.\n",
    "#name = \"Alice\"\n",
    "#age = 25\n",
    "#print(\"My name is %s and I am %d years old\" % (name))\n",
    "#7.\n",
    "name = \"Alice\"\n",
    "age = 25\n",
    "print(\"My name is:\",(name))\n",
    "print(\"I am\", age ,\"years old\")"
   ]
  },
  {
   "cell_type": "code",
   "execution_count": 25,
   "id": "81eb1d14-1d9b-4321-8c82-ef36f8d81e1a",
   "metadata": {},
   "outputs": [
    {
     "name": "stdout",
     "output_type": "stream",
     "text": [
      "[1, 2, 3, 1, 2, 3]\n"
     ]
    }
   ],
   "source": [
    "#8.\n",
    "#a = [1, 2, 3]\n",
    "#b = [1, 2, 3]\n",
    "#if a is b:\n",
    "#   print(\"Lists are equal\")\n",
    "    \n",
    "a = [1, 2, 3]\n",
    "b = [1, 2, 3]\n",
    "c = a+b\n",
    "print(c)"
   ]
  },
  {
   "cell_type": "code",
   "execution_count": 71,
   "id": "348b60f8-ee4f-40d0-90d4-45ffca29a698",
   "metadata": {},
   "outputs": [
    {
     "name": "stdout",
     "output_type": "stream",
     "text": [
      "0\n",
      "1\n",
      "2\n",
      "3\n",
      "4\n"
     ]
    }
   ],
   "source": [
    "#9.\n",
    "#for i in range(5, 1):\n",
    "#   print(i)\n",
    "#9.\n",
    "\n",
    "for i in range(5):\n",
    "    print(i)"
   ]
  },
  {
   "cell_type": "code",
   "execution_count": 81,
   "id": "5eba230f-d601-4fb0-a5f2-caaa590f3416",
   "metadata": {},
   "outputs": [
    {
     "name": "stdout",
     "output_type": "stream",
     "text": [
      "{'name': 'John', 'age': 20}\n"
     ]
    }
   ],
   "source": [
    "#10.\n",
    "#student = {\"name\": \"John\", \"age\": 20}\n",
    "#print(student[name])\n",
    "#10.\n",
    "student = {\"name\": \"John\", \"age\": 20}\n",
    "print(student)\n"
   ]
  },
  {
   "cell_type": "code",
   "execution_count": null,
   "id": "39980f02-fbbd-4a90-9a86-116250cbc8d2",
   "metadata": {},
   "outputs": [],
   "source": []
  }
 ],
 "metadata": {
  "kernelspec": {
   "display_name": "Python [conda env:base] *",
   "language": "python",
   "name": "conda-base-py"
  },
  "language_info": {
   "codemirror_mode": {
    "name": "ipython",
    "version": 3
   },
   "file_extension": ".py",
   "mimetype": "text/x-python",
   "name": "python",
   "nbconvert_exporter": "python",
   "pygments_lexer": "ipython3",
   "version": "3.12.7"
  }
 },
 "nbformat": 4,
 "nbformat_minor": 5
}
