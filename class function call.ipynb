{
 "cells": [
  {
   "cell_type": "code",
   "execution_count": 1,
   "id": "951b02d9-4812-49f2-8b01-e639a6f78b40",
   "metadata": {},
   "outputs": [],
   "source": [
    "from multiplefunction import multiplefunction"
   ]
  },
  {
   "cell_type": "code",
   "execution_count": 3,
   "id": "ebe79cbf-c801-4d45-8b13-3ccc272e7fb5",
   "metadata": {},
   "outputs": [
    {
     "name": "stdout",
     "output_type": "stream",
     "text": [
      "Sub-fields in AI are:\n",
      "Machine Learning\n",
      "natural network\n",
      "vision\n",
      "Robatics\n",
      "speech processing\n",
      "natural language processing\n"
     ]
    }
   ],
   "source": [
    "multiplefunction.subfieldsInAI()"
   ]
  },
  {
   "cell_type": "code",
   "execution_count": 5,
   "id": "ac6ad0ac-1de2-4b37-99d0-b98ab21ea2c7",
   "metadata": {},
   "outputs": [
    {
     "name": "stdin",
     "output_type": "stream",
     "text": [
      "Enter the number: 54352\n"
     ]
    },
    {
     "name": "stdout",
     "output_type": "stream",
     "text": [
      "54352 is Even number\n"
     ]
    }
   ],
   "source": [
    "multiplefunction.My_number()"
   ]
  },
  {
   "cell_type": "code",
   "execution_count": 7,
   "id": "ebe87b87-6498-465f-a179-108cac7b67e2",
   "metadata": {},
   "outputs": [
    {
     "name": "stdin",
     "output_type": "stream",
     "text": [
      "Your Gender: Female\n",
      "your age: 32\n"
     ]
    },
    {
     "name": "stdout",
     "output_type": "stream",
     "text": [
      "Elegible\n"
     ]
    }
   ],
   "source": [
    "multiplefunction.MY_Function()"
   ]
  },
  {
   "cell_type": "code",
   "execution_count": 9,
   "id": "f9ae5a77-da58-45f5-b703-e5f2109f14c1",
   "metadata": {},
   "outputs": [
    {
     "name": "stdin",
     "output_type": "stream",
     "text": [
      "Subject1= 98\n",
      "subject2= 95\n",
      "subject3= 87\n",
      "subject4= 93\n",
      "subject5= 95\n"
     ]
    },
    {
     "name": "stdout",
     "output_type": "stream",
     "text": [
      "Total: 468\n",
      "prrcentage: 93.60000000000001\n"
     ]
    }
   ],
   "source": [
    "multiplefunction.My_subject()"
   ]
  },
  {
   "cell_type": "code",
   "execution_count": 11,
   "id": "6901d95f-31cf-4319-a42f-e87c7268bfad",
   "metadata": {},
   "outputs": [
    {
     "name": "stdin",
     "output_type": "stream",
     "text": [
      "Height: 34\n",
      "Breadth: 32\n"
     ]
    },
    {
     "name": "stdout",
     "output_type": "stream",
     "text": [
      "Area fomula:(Height*Breadth)/2\n",
      "Area of triangle: 544.0\n"
     ]
    },
    {
     "name": "stdin",
     "output_type": "stream",
     "text": [
      "Height1: 2\n",
      "Height2: 4\n",
      "Breadth: 4\n"
     ]
    },
    {
     "name": "stdout",
     "output_type": "stream",
     "text": [
      "Perimeter formula:Height1+Height2+Breadth\n",
      "perimeter of Triangle: 10\n"
     ]
    }
   ],
   "source": [
    "multiplefunction.Triangle()"
   ]
  },
  {
   "cell_type": "code",
   "execution_count": null,
   "id": "986daaec-8f66-4798-951a-c34d1df4c2c3",
   "metadata": {},
   "outputs": [],
   "source": []
  }
 ],
 "metadata": {
  "kernelspec": {
   "display_name": "Python [conda env:base] *",
   "language": "python",
   "name": "conda-base-py"
  },
  "language_info": {
   "codemirror_mode": {
    "name": "ipython",
    "version": 3
   },
   "file_extension": ".py",
   "mimetype": "text/x-python",
   "name": "python",
   "nbconvert_exporter": "python",
   "pygments_lexer": "ipython3",
   "version": "3.12.7"
  }
 },
 "nbformat": 4,
 "nbformat_minor": 5
}
